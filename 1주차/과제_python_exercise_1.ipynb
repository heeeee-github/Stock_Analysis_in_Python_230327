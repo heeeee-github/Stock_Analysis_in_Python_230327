{
  "nbformat": 4,
  "nbformat_minor": 0,
  "metadata": {
    "colab": {
      "provenance": [],
      "toc_visible": true,
      "include_colab_link": true
    },
    "kernelspec": {
      "name": "python3",
      "display_name": "Python 3"
    },
    "language_info": {
      "name": "python"
    }
  },
  "cells": [
    {
      "cell_type": "markdown",
      "metadata": {
        "id": "view-in-github",
        "colab_type": "text"
      },
      "source": [
        "<a href=\"https://colab.research.google.com/github/heeeee-github/Stock_Analysis_in_Python_230327/blob/main/1%EC%A3%BC%EC%B0%A8/%EA%B3%BC%EC%A0%9C_python_exercise_1.ipynb\" target=\"_parent\"><img src=\"https://colab.research.google.com/assets/colab-badge.svg\" alt=\"Open In Colab\"/></a>"
      ]
    },
    {
      "cell_type": "markdown",
      "source": [
        "# 파이썬 자료형"
      ],
      "metadata": {
        "id": "Iau3EfMp8Epe"
      }
    },
    {
      "cell_type": "markdown",
      "source": [
        "##문자열\n",
        "Q1. 홍길동 씨의 주민등록번호는 881120-1068234이다. 홍길동씨의 주민등록번호를 연월일 [YYYYMMDD]  부분과 그 뒤의 숫자 부분으로 나누어 출력해 보자."
      ],
      "metadata": {
        "id": "yZSXObUT8LVB"
      }
    },
    {
      "cell_type": "code",
      "execution_count": 5,
      "metadata": {
        "colab": {
          "base_uri": "https://localhost:8080/"
        },
        "id": "S6N5QsdY736G",
        "outputId": "65fc3fab-1f76-48af-a531-9d2e13cb6ca5"
      },
      "outputs": [
        {
          "output_type": "stream",
          "name": "stdout",
          "text": [
            "881120\n",
            "1068234\n"
          ]
        }
      ],
      "source": [
        "pin = \"881120-1068234\"\n",
        "yyyymmdd = pin[0:6]\n",
        "num = pin[7:]\n",
        "print(yyyymmdd)\n",
        "print(num)\n",
        "\n",
        "# 결과값\n",
        "# 881120\n",
        "# 1068234"
      ]
    },
    {
      "cell_type": "markdown",
      "source": [
        "Q2. 주민등록번호 뒷자리의 맨 첫 번째 숫자는 성별을 나타낸다. 주민등록번호에서 성별을 나타내는 숫자를 출력해 보자"
      ],
      "metadata": {
        "id": "APDcuvw-8r2L"
      }
    },
    {
      "cell_type": "code",
      "source": [
        "pin = \"881120-1068234\"\n",
        "print(pin[7])\n",
        "\n",
        "#결과값\n",
        "# 1"
      ],
      "metadata": {
        "colab": {
          "base_uri": "https://localhost:8080/"
        },
        "id": "bz5DLVgI865C",
        "outputId": "985af389-a683-40f9-d8fa-3d0ce464ce61"
      },
      "execution_count": 6,
      "outputs": [
        {
          "output_type": "stream",
          "name": "stdout",
          "text": [
            "1\n"
          ]
        }
      ]
    },
    {
      "cell_type": "markdown",
      "source": [
        "##리스트\n",
        "Q1. [1,3,5,4,2]라는 리스트를 [5,4,3,2,1]로 만들어보자"
      ],
      "metadata": {
        "id": "OcZ0KdoK9COb"
      }
    },
    {
      "cell_type": "code",
      "source": [
        "a = [1,3,5,4,2]\n",
        "a.sort()\n",
        "a.sort(reverse = True)\n",
        "print(a)"
      ],
      "metadata": {
        "id": "R9Kaa18V9JG_",
        "colab": {
          "base_uri": "https://localhost:8080/"
        },
        "outputId": "6bac40a1-ede3-4378-b918-ed872f4f93e7"
      },
      "execution_count": 8,
      "outputs": [
        {
          "output_type": "stream",
          "name": "stdout",
          "text": [
            "[5, 4, 3, 2, 1]\n"
          ]
        }
      ]
    },
    {
      "cell_type": "markdown",
      "source": [
        "Q2. ['Life','is','too','short']라는 리스트를 Life is too short라는 문자열로 만들어 출력해 보자"
      ],
      "metadata": {
        "id": "5Qe1O5NV9Xm3"
      }
    },
    {
      "cell_type": "code",
      "source": [
        "a = ['Life','is','too', 'short']\n",
        "result = a\n",
        "print(result)\n",
        "\n",
        "## ????????????????????????????????????????????????"
      ],
      "metadata": {
        "id": "RTjdG6n19ho7",
        "colab": {
          "base_uri": "https://localhost:8080/"
        },
        "outputId": "2f45a2e2-8e49-47c5-e7f1-c96182a74946"
      },
      "execution_count": 7,
      "outputs": [
        {
          "output_type": "stream",
          "name": "stdout",
          "text": [
            "['Life', 'is', 'too', 'short']\n"
          ]
        }
      ]
    },
    {
      "cell_type": "markdown",
      "source": [
        "##튜플\n",
        "Q1. (1,2,3)이라는 튜플에 4라는 값을 추가하여 (1,2,3,4)처럼 만들어 출력해 보자"
      ],
      "metadata": {
        "id": "1d88TcE39yZd"
      }
    },
    {
      "cell_type": "code",
      "source": [
        "a = (1,2,3)\n",
        "\n",
        "a_1 = list(a)\n",
        "a_1.append(4)\n",
        "a = tuple(a_1)\n",
        "\n",
        "print(a)\n"
      ],
      "metadata": {
        "id": "gIUAYi7G94Yl",
        "colab": {
          "base_uri": "https://localhost:8080/"
        },
        "outputId": "e74ec23e-4cde-4e0b-c64c-542ce4227647"
      },
      "execution_count": 13,
      "outputs": [
        {
          "output_type": "stream",
          "name": "stdout",
          "text": [
            "(1, 2, 3, 4)\n"
          ]
        }
      ]
    },
    {
      "cell_type": "markdown",
      "source": [
        "##딕셔너리\n",
        "Q1. 딕셔너리 a에서 'B'에 해당되는 값을 추출하고 삭제해 보자.\n"
      ],
      "metadata": {
        "id": "3C94Sbxf9_u_"
      }
    },
    {
      "cell_type": "code",
      "source": [
        "a = {'A':90, 'B':80, 'C':70}\n",
        "result = a.pop(\"B\")\n",
        "print(a) #B를 추출한 후 딕셔너리\n",
        "print(result) #B에 해당되는 값\n",
        "\n",
        "#결과값\n",
        "#{'A':90, 'C':70}\n",
        "# 80"
      ],
      "metadata": {
        "id": "yN_T1cpJ9--J",
        "colab": {
          "base_uri": "https://localhost:8080/"
        },
        "outputId": "0f483b14-46ba-491f-c7ed-f3e63391e6d2"
      },
      "execution_count": 17,
      "outputs": [
        {
          "output_type": "stream",
          "name": "stdout",
          "text": [
            "{'A': 90, 'C': 70}\n",
            "80\n"
          ]
        }
      ]
    },
    {
      "cell_type": "markdown",
      "source": [
        "##세트\n",
        "Q1. a리스트에서 중복된 숫자들을 제거해보자"
      ],
      "metadata": {
        "id": "gRjViwRP-mAo"
      }
    },
    {
      "cell_type": "code",
      "source": [
        "a = [1,1,1,2,2,3,3,3,4,4,5]\n",
        "aSet = '코드를 넣으시오' \n",
        "b = '코드를 넣으시오'\n",
        "print('코드를 넣으시오')\n",
        "\n",
        "#결과값\n",
        "#[1,2,3,4,5]\n",
        "# ????????????????????????????????????????????????????????????"
      ],
      "metadata": {
        "id": "mNdO_on7-sZB",
        "colab": {
          "base_uri": "https://localhost:8080/"
        },
        "outputId": "6bc0efd1-2f86-4500-f10f-ed464c5e6ab2"
      },
      "execution_count": null,
      "outputs": [
        {
          "output_type": "stream",
          "name": "stdout",
          "text": [
            "코드를 넣으시오\n"
          ]
        }
      ]
    },
    {
      "cell_type": "markdown",
      "source": [
        "##변수\n",
        "Q1. 파이썬은 다음처럼 동일한 값에 여러 개의 변수를 선언할 수 있다. 아래와 같이 a, b 변수를 선언한 후 a의 첫 번째 요소값을 변경하면 b의 값은 어떻게 될까? 그리고 이런 결과가 나오는 이유에 대해서 설명해 보자"
      ],
      "metadata": {
        "id": "Z50kCFGW-4ym"
      }
    },
    {
      "cell_type": "code",
      "source": [
        "a = b = [1, 2, 3]\n",
        "a[1] = 4\n",
        "print(b)"
      ],
      "metadata": {
        "id": "qVfGqp-r_FhI",
        "colab": {
          "base_uri": "https://localhost:8080/"
        },
        "outputId": "d13e5312-2b19-4dc6-d447-74be25e733c2"
      },
      "execution_count": 19,
      "outputs": [
        {
          "output_type": "stream",
          "name": "stdout",
          "text": [
            "[1, 4, 3]\n"
          ]
        }
      ]
    },
    {
      "cell_type": "markdown",
      "source": [
        "---"
      ],
      "metadata": {
        "id": "2_T_0ZacZxu2"
      }
    },
    {
      "cell_type": "markdown",
      "source": [
        "Q2.`x`원을 지불하기 위해서 `y`원 짜리(또는 `z`원 짜리) 동전을 몇 개 내야하는지 출력하시오.\n",
        "```\n",
        "x = 3928\n",
        "y = 500\n",
        "z = 100\n",
        "```\n",
        "**출력 예시**\n",
        "```\n",
        "500원짜리 동전 8개를 내세요\n",
        "```\n",
        "\n",
        "```\n",
        "100원짜리 동전 40개를 내세요\n",
        "```\n"
      ],
      "metadata": {
        "id": "0DWvankcZodM"
      }
    },
    {
      "cell_type": "code",
      "source": [
        "x = 3928\n",
        "y = 500\n",
        "z = 100\n",
        "\n",
        "print('코드를 넣으시오')\n",
        "print('코드를 넣으시오')"
      ],
      "metadata": {
        "id": "d2axTElDZv5d"
      },
      "execution_count": null,
      "outputs": []
    },
    {
      "cell_type": "markdown",
      "source": [
        "---"
      ],
      "metadata": {
        "id": "pIrpWHiuZ_m6"
      }
    },
    {
      "cell_type": "markdown",
      "source": [
        "Q3. 세 수의 평균을 구하시오\n",
        "\n",
        "```\n",
        "a = 21.9\n",
        "b = 37\n",
        "c = 13.6\n",
        "```"
      ],
      "metadata": {
        "id": "7RXxWL1xaBB-"
      }
    },
    {
      "cell_type": "code",
      "source": [
        "a = 21.9\n",
        "b = 37\n",
        "c = 13.6\n",
        "\n",
        "print('코드를 넣으시오')"
      ],
      "metadata": {
        "id": "6XvwlCmzaAFD",
        "colab": {
          "base_uri": "https://localhost:8080/",
          "height": 211
        },
        "outputId": "c90fe562-2bfa-4169-fd57-eb9bb79177d8"
      },
      "execution_count": 23,
      "outputs": [
        {
          "output_type": "error",
          "ename": "NameError",
          "evalue": "ignored",
          "traceback": [
            "\u001b[0;31m---------------------------------------------------------------------------\u001b[0m",
            "\u001b[0;31mNameError\u001b[0m                                 Traceback (most recent call last)",
            "\u001b[0;32m<ipython-input-23-82f1eee203e1>\u001b[0m in \u001b[0;36m<module>\u001b[0;34m\u001b[0m\n\u001b[1;32m      3\u001b[0m \u001b[0mc\u001b[0m \u001b[0;34m=\u001b[0m \u001b[0;36m13.6\u001b[0m\u001b[0;34m\u001b[0m\u001b[0;34m\u001b[0m\u001b[0m\n\u001b[1;32m      4\u001b[0m \u001b[0;34m\u001b[0m\u001b[0m\n\u001b[0;32m----> 5\u001b[0;31m \u001b[0mprint\u001b[0m\u001b[0;34m(\u001b[0m\u001b[0mavg\u001b[0m\u001b[0;34m(\u001b[0m\u001b[0ma\u001b[0m\u001b[0;34m+\u001b[0m\u001b[0mb\u001b[0m\u001b[0;34m+\u001b[0m\u001b[0mc\u001b[0m\u001b[0;34m)\u001b[0m\u001b[0;34m)\u001b[0m\u001b[0;34m\u001b[0m\u001b[0;34m\u001b[0m\u001b[0m\n\u001b[0m",
            "\u001b[0;31mNameError\u001b[0m: name 'avg' is not defined"
          ]
        }
      ]
    },
    {
      "cell_type": "code",
      "source": [],
      "metadata": {
        "id": "bqlwVEO7aI37"
      },
      "execution_count": null,
      "outputs": []
    }
  ]
}